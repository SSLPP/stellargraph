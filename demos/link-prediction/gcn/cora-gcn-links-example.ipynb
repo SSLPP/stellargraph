{
 "cells": [
  {
   "cell_type": "markdown",
   "metadata": {},
   "source": [
    "# Link prediction example: GCN on the Cora citation dataset"
   ]
  },
  {
   "cell_type": "markdown",
   "metadata": {
    "tags": [
     "CloudRunner"
    ]
   },
   "source": [
    "<table><tr><td>Run the master version of this notebook:</td><td><a href=\"https://mybinder.org/v2/gh/stellargraph/stellargraph/master?urlpath=lab/tree/demos/link-prediction/gcn/cora-gcn-links-example.ipynb\" alt=\"Open In Binder\" target=\"_parent\"><img src=\"https://mybinder.org/badge_logo.svg\"/></a></td><td><a href=\"https://colab.research.google.com/github/stellargraph/stellargraph/blob/master/demos/link-prediction/gcn/cora-gcn-links-example.ipynb\" alt=\"Open In Colab\" target=\"_parent\"><img src=\"https://colab.research.google.com/assets/colab-badge.svg\"/></a></td></tr></table>"
   ]
  },
  {
   "cell_type": "markdown",
   "metadata": {},
   "source": [
    "In this example, we use our implementation of the [GCN](https://arxiv.org/abs/1609.02907) algorithm to build a model that predicts citation links in the Cora dataset (see below). The problem is treated as a supervised link prediction problem on a homogeneous citation network with nodes representing papers (with attributes such as binary keyword indicators and categorical subject) and links corresponding to paper-paper citations. \n",
    "\n",
    "To address this problem, we build a model with the following architecture. First we build a two-layer GCN model that takes labeled node pairs (`citing-paper` -> `cited-paper`)  corresponding to possible citation links, and outputs a pair of node embeddings for the `citing-paper` and `cited-paper` nodes of the pair. These embeddings are then fed into a link classification layer, which first applies a binary operator to those node embeddings (e.g., concatenating them) to construct the embedding of the potential link. Thus obtained link embeddings are passed through the dense link classification layer to obtain link predictions - probability for these candidate links to actually exist in the network. The entire model is trained end-to-end by minimizing the loss function of choice (e.g., binary cross-entropy between predicted link probabilities and true link labels, with true/false citation links having labels 1/0) using stochastic gradient descent (SGD) updates of the model parameters, with minibatches of 'training' links fed into the model."
   ]
  },
  {
   "cell_type": "code",
   "execution_count": 1,
   "metadata": {
    "tags": [
     "CloudRunner"
    ]
   },
   "outputs": [],
   "source": [
    "# install StellarGraph if running on Google Colab\n",
    "import sys\n",
    "if 'google.colab' in sys.modules:\n",
    "  %pip install -q stellargraph[demos]"
   ]
  },
  {
   "cell_type": "code",
   "execution_count": 2,
   "metadata": {},
   "outputs": [],
   "source": [
    "import stellargraph as sg\n",
    "from stellargraph.data import EdgeSplitter\n",
    "from stellargraph.mapper import FullBatchLinkGenerator\n",
    "from stellargraph.layer import GCN, LinkEmbedding\n",
    "\n",
    "\n",
    "from tensorflow import keras\n",
    "from sklearn import preprocessing, feature_extraction, model_selection\n",
    "\n",
    "from stellargraph import globalvar\n",
    "from stellargraph import datasets\n",
    "from IPython.display import display, HTML\n",
    "%matplotlib inline"
   ]
  },
  {
   "cell_type": "markdown",
   "metadata": {},
   "source": [
    "### Loading the CORA network data"
   ]
  },
  {
   "cell_type": "code",
   "execution_count": 3,
   "metadata": {},
   "outputs": [
    {
     "data": {
      "text/html": [
       "The Cora dataset consists of 2708 scientific publications classified into one of seven classes. The citation network consists of 5429 links. Each publication in the dataset is described by a 0/1-valued word vector indicating the absence/presence of the corresponding word from the dictionary. The dictionary consists of 1433 unique words."
      ],
      "text/plain": [
       "<IPython.core.display.HTML object>"
      ]
     },
     "metadata": {},
     "output_type": "display_data"
    }
   ],
   "source": [
    "dataset = datasets.Cora()\n",
    "display(HTML(dataset.description))\n",
    "G, _ = dataset.load(subject_as_feature=True)"
   ]
  },
  {
   "cell_type": "code",
   "execution_count": 4,
   "metadata": {},
   "outputs": [
    {
     "name": "stdout",
     "output_type": "stream",
     "text": [
      "StellarGraph: Undirected multigraph\n",
      " Nodes: 2708, Edges: 5429\n",
      "\n",
      " Node types:\n",
      "  paper: [2708]\n",
      "    Features: float32 vector, length 1440\n",
      "    Edge types: paper-cites->paper\n",
      "\n",
      " Edge types:\n",
      "    paper-cites->paper: [5429]\n"
     ]
    }
   ],
   "source": [
    "print(G.info())"
   ]
  },
  {
   "cell_type": "markdown",
   "metadata": {},
   "source": [
    "We aim to train a link prediction model, hence we need to prepare the train and test sets of links and the corresponding graphs with those links removed.\n",
    "\n",
    "We are going to split our input graph into a train and test graphs using the EdgeSplitter class in `stellargraph.data`. We will use the train graph for training the model (a binary classifier that, given two nodes, predicts whether a link between these two nodes should exist or not) and the test graph for evaluating the model's performance on hold out data.\n",
    "Each of these graphs will have the same number of nodes as the input graph, but the number of links will differ (be reduced) as some of the links will be removed during each split and used as the positive samples for training/testing the link prediction classifier."
   ]
  },
  {
   "cell_type": "markdown",
   "metadata": {},
   "source": [
    "From the original graph G, extract a randomly sampled subset of test edges (true and false citation links) and the reduced graph G_test with the positive test edges removed:"
   ]
  },
  {
   "cell_type": "code",
   "execution_count": 5,
   "metadata": {},
   "outputs": [
    {
     "name": "stdout",
     "output_type": "stream",
     "text": [
      "** Sampled 542 positive and 542 negative edges. **\n"
     ]
    }
   ],
   "source": [
    "# Define an edge splitter on the original graph G:\n",
    "edge_splitter_test = EdgeSplitter(G)\n",
    "\n",
    "# Randomly sample a fraction p=0.1 of all positive links, and same number of negative links, from G, and obtain the\n",
    "# reduced graph G_test with the sampled links removed:\n",
    "G_test, edge_ids_test, edge_labels_test = edge_splitter_test.train_test_split(\n",
    "    p=0.1, method=\"global\", keep_connected=True\n",
    ")"
   ]
  },
  {
   "cell_type": "markdown",
   "metadata": {},
   "source": [
    "The reduced graph G_test, together with the test ground truth set of links (edge_ids_test, edge_labels_test), will be used for testing the model.\n",
    "\n",
    "Now repeat this procedure to obtain the training data for the model. From the reduced graph G_test, extract a randomly sampled subset of train edges (true and false citation links) and the reduced graph G_train with the positive train edges removed:"
   ]
  },
  {
   "cell_type": "code",
   "execution_count": 6,
   "metadata": {},
   "outputs": [
    {
     "name": "stdout",
     "output_type": "stream",
     "text": [
      "** Sampled 488 positive and 488 negative edges. **\n"
     ]
    }
   ],
   "source": [
    "# Define an edge splitter on the reduced graph G_test:\n",
    "edge_splitter_train = EdgeSplitter(G_test)\n",
    "\n",
    "# Randomly sample a fraction p=0.1 of all positive links, and same number of negative links, from G_test, and obtain the\n",
    "# reduced graph G_train with the sampled links removed:\n",
    "G_train, edge_ids_train, edge_labels_train = edge_splitter_train.train_test_split(\n",
    "    p=0.1, method=\"global\", keep_connected=True\n",
    ")"
   ]
  },
  {
   "cell_type": "markdown",
   "metadata": {},
   "source": [
    "G_train, together with the train ground truth set of links (edge_ids_train, edge_labels_train), will be used for training the model."
   ]
  },
  {
   "cell_type": "markdown",
   "metadata": {},
   "source": [
    "#### Creating the GCN link model"
   ]
  },
  {
   "cell_type": "markdown",
   "metadata": {},
   "source": [
    "Next, we create the link generators for the train and test link examples to the model. The link generators take the pairs of nodes (`citing-paper`, `cited-paper`) that are given in the `.flow` method to the Keras model, together with the corresponding binary labels indicating whether those pairs represent true or false links.\n",
    "\n",
    "The number of epochs for training the model:"
   ]
  },
  {
   "cell_type": "code",
   "execution_count": 7,
   "metadata": {},
   "outputs": [],
   "source": [
    "epochs = 50"
   ]
  },
  {
   "cell_type": "markdown",
   "metadata": {},
   "source": [
    "For training we create a generator on the `G_train` graph, and make an iterator over the training links using the generator's `flow()` method:"
   ]
  },
  {
   "cell_type": "code",
   "execution_count": 8,
   "metadata": {},
   "outputs": [
    {
     "name": "stdout",
     "output_type": "stream",
     "text": [
      "Using GCN (local pooling) filters...\n"
     ]
    }
   ],
   "source": [
    "train_gen = FullBatchLinkGenerator(G_train, method=\"gcn\")\n",
    "train_flow = train_gen.flow(edge_ids_train, edge_labels_train)"
   ]
  },
  {
   "cell_type": "code",
   "execution_count": 9,
   "metadata": {},
   "outputs": [
    {
     "name": "stdout",
     "output_type": "stream",
     "text": [
      "Using GCN (local pooling) filters...\n"
     ]
    }
   ],
   "source": [
    "test_gen = FullBatchLinkGenerator(G_test, method=\"gcn\")\n",
    "test_flow = train_gen.flow(edge_ids_test, edge_labels_test)"
   ]
  },
  {
   "cell_type": "markdown",
   "metadata": {},
   "source": [
    "Now we can specify our machine learning model, we need a few more parameters for this:\n",
    "\n",
    " * the `layer_sizes` is a list of hidden feature sizes of each layer in the model. In this example we use two GCN layers with 16-dimensional hidden node features at each layer.\n",
    " * `activations` is a list of activations applied to each layer's output\n",
    " * `dropout=0.3` specifies a 30% dropout at each layer. "
   ]
  },
  {
   "cell_type": "markdown",
   "metadata": {},
   "source": [
    "We create a GCN model as follows:"
   ]
  },
  {
   "cell_type": "code",
   "execution_count": 10,
   "metadata": {},
   "outputs": [],
   "source": [
    "gcn = GCN(\n",
    "    layer_sizes=[16, 16], activations=[\"relu\", \"relu\"], generator=train_gen, dropout=0.3\n",
    ")"
   ]
  },
  {
   "cell_type": "markdown",
   "metadata": {},
   "source": [
    "To create a Keras model we now expose the input and output tensors of the GCN model for link prediction, via the `GCN.in_out_tensors` method:"
   ]
  },
  {
   "cell_type": "code",
   "execution_count": 11,
   "metadata": {},
   "outputs": [],
   "source": [
    "x_inp, x_out = gcn.in_out_tensors()"
   ]
  },
  {
   "cell_type": "markdown",
   "metadata": {},
   "source": [
    "Final link classification layer that takes a pair of node embeddings produced by the GCN model, applies a binary operator to them to produce the corresponding link embedding ('ip' for inner product; other options for the binary operator can be seen by running a cell with `?LinkEmbedding` in it), and passes it through a dense layer:"
   ]
  },
  {
   "cell_type": "code",
   "execution_count": 12,
   "metadata": {},
   "outputs": [],
   "source": [
    "prediction = LinkEmbedding(activation=\"relu\", method=\"ip\")(x_out)"
   ]
  },
  {
   "cell_type": "markdown",
   "metadata": {},
   "source": [
    "The predictions need to be reshaped from `(X, 1)` to `(X,)` to match the shape of the targets we have supplied above."
   ]
  },
  {
   "cell_type": "code",
   "execution_count": 13,
   "metadata": {},
   "outputs": [],
   "source": [
    "prediction = keras.layers.Reshape((-1,))(prediction)"
   ]
  },
  {
   "cell_type": "markdown",
   "metadata": {},
   "source": [
    "Stack the GCN and prediction layers into a Keras model, and specify the loss"
   ]
  },
  {
   "cell_type": "code",
   "execution_count": 14,
   "metadata": {},
   "outputs": [],
   "source": [
    "model = keras.Model(inputs=x_inp, outputs=prediction)\n",
    "\n",
    "model.compile(\n",
    "    optimizer=keras.optimizers.Adam(lr=0.01),\n",
    "    loss=keras.losses.binary_crossentropy,\n",
    "    metrics=[\"acc\"],\n",
    ")"
   ]
  },
  {
   "cell_type": "markdown",
   "metadata": {},
   "source": [
    "Evaluate the initial (untrained) model on the train and test set:"
   ]
  },
  {
   "cell_type": "code",
   "execution_count": 15,
   "metadata": {},
   "outputs": [
    {
     "name": "stdout",
     "output_type": "stream",
     "text": [
      "WARNING:tensorflow:sample_weight modes were coerced from\n",
      "  ...\n",
      "    to  \n",
      "  ['...']\n",
      "1/1 [==============================] - 0s 104ms/step - loss: 2.1321 - acc: 0.5000\n",
      "WARNING:tensorflow:sample_weight modes were coerced from\n",
      "  ...\n",
      "    to  \n",
      "  ['...']\n",
      "1/1 [==============================] - 0s 11ms/step - loss: 2.1284 - acc: 0.5000\n",
      "\n",
      "Train Set Metrics of the initial (untrained) model:\n",
      "\tloss: 2.1321\n",
      "\tacc: 0.5000\n",
      "\n",
      "Test Set Metrics of the initial (untrained) model:\n",
      "\tloss: 2.1284\n",
      "\tacc: 0.5000\n"
     ]
    }
   ],
   "source": [
    "init_train_metrics = model.evaluate(train_flow)\n",
    "init_test_metrics = model.evaluate(test_flow)\n",
    "\n",
    "print(\"\\nTrain Set Metrics of the initial (untrained) model:\")\n",
    "for name, val in zip(model.metrics_names, init_train_metrics):\n",
    "    print(\"\\t{}: {:0.4f}\".format(name, val))\n",
    "\n",
    "print(\"\\nTest Set Metrics of the initial (untrained) model:\")\n",
    "for name, val in zip(model.metrics_names, init_test_metrics):\n",
    "    print(\"\\t{}: {:0.4f}\".format(name, val))"
   ]
  },
  {
   "cell_type": "markdown",
   "metadata": {},
   "source": [
    "Train the model:"
   ]
  },
  {
   "cell_type": "code",
   "execution_count": 16,
   "metadata": {},
   "outputs": [
    {
     "name": "stdout",
     "output_type": "stream",
     "text": [
      "WARNING:tensorflow:sample_weight modes were coerced from\n",
      "  ...\n",
      "    to  \n",
      "  ['...']\n",
      "WARNING:tensorflow:sample_weight modes were coerced from\n",
      "  ...\n",
      "    to  \n",
      "  ['...']\n",
      "Train for 1 steps, validate for 1 steps\n",
      "Epoch 1/50\n",
      "1/1 - 1s - loss: 2.0451 - acc: 0.5000 - val_loss: 0.7155 - val_acc: 0.6292\n",
      "Epoch 2/50\n",
      "1/1 - 0s - loss: 0.7297 - acc: 0.6291 - val_loss: 5.1872 - val_acc: 0.5055\n",
      "Epoch 3/50\n",
      "1/1 - 0s - loss: 4.5378 - acc: 0.5225 - val_loss: 1.9302 - val_acc: 0.5470\n",
      "Epoch 4/50\n",
      "1/1 - 0s - loss: 1.9869 - acc: 0.5543 - val_loss: 0.6694 - val_acc: 0.6181\n",
      "Epoch 5/50\n",
      "1/1 - 0s - loss: 0.6216 - acc: 0.6424 - val_loss: 0.9043 - val_acc: 0.5221\n",
      "Epoch 6/50\n",
      "1/1 - 0s - loss: 0.8622 - acc: 0.5297 - val_loss: 1.0175 - val_acc: 0.5157\n",
      "Epoch 7/50\n",
      "1/1 - 0s - loss: 0.9794 - acc: 0.5318 - val_loss: 0.9285 - val_acc: 0.5194\n",
      "Epoch 8/50\n",
      "1/1 - 0s - loss: 0.8815 - acc: 0.5379 - val_loss: 0.7764 - val_acc: 0.5655\n",
      "Epoch 9/50\n",
      "1/1 - 0s - loss: 0.7305 - acc: 0.5881 - val_loss: 0.6633 - val_acc: 0.6494\n",
      "Epoch 10/50\n",
      "1/1 - 0s - loss: 0.6992 - acc: 0.6762 - val_loss: 0.7598 - val_acc: 0.6679\n",
      "Epoch 11/50\n",
      "1/1 - 0s - loss: 0.8258 - acc: 0.6516 - val_loss: 0.9232 - val_acc: 0.6476\n",
      "Epoch 12/50\n",
      "1/1 - 0s - loss: 1.1120 - acc: 0.6578 - val_loss: 0.8078 - val_acc: 0.6808\n",
      "Epoch 13/50\n",
      "1/1 - 0s - loss: 0.9691 - acc: 0.6834 - val_loss: 0.6619 - val_acc: 0.6965\n",
      "Epoch 14/50\n",
      "1/1 - 0s - loss: 0.6789 - acc: 0.6865 - val_loss: 0.6264 - val_acc: 0.6799\n",
      "Epoch 15/50\n",
      "1/1 - 0s - loss: 0.6532 - acc: 0.6844 - val_loss: 0.6469 - val_acc: 0.6494\n",
      "Epoch 16/50\n",
      "1/1 - 0s - loss: 0.6314 - acc: 0.6742 - val_loss: 0.6599 - val_acc: 0.6301\n",
      "Epoch 17/50\n",
      "1/1 - 0s - loss: 0.6351 - acc: 0.6568 - val_loss: 0.6694 - val_acc: 0.6218\n",
      "Epoch 18/50\n",
      "1/1 - 0s - loss: 0.6564 - acc: 0.6650 - val_loss: 0.6656 - val_acc: 0.6282\n",
      "Epoch 19/50\n",
      "1/1 - 0s - loss: 0.6332 - acc: 0.6650 - val_loss: 0.6590 - val_acc: 0.6476\n",
      "Epoch 20/50\n",
      "1/1 - 0s - loss: 0.6035 - acc: 0.6844 - val_loss: 0.6377 - val_acc: 0.6725\n",
      "Epoch 21/50\n",
      "1/1 - 0s - loss: 0.5758 - acc: 0.7039 - val_loss: 0.6310 - val_acc: 0.6910\n",
      "Epoch 22/50\n",
      "1/1 - 0s - loss: 0.5961 - acc: 0.6936 - val_loss: 0.6546 - val_acc: 0.7113\n",
      "Epoch 23/50\n",
      "1/1 - 0s - loss: 0.6072 - acc: 0.7387 - val_loss: 0.7059 - val_acc: 0.7131\n",
      "Epoch 24/50\n",
      "1/1 - 0s - loss: 0.5953 - acc: 0.7439 - val_loss: 0.7668 - val_acc: 0.7094\n",
      "Epoch 25/50\n",
      "1/1 - 0s - loss: 0.6243 - acc: 0.7643 - val_loss: 0.8331 - val_acc: 0.7196\n",
      "Epoch 26/50\n",
      "1/1 - 0s - loss: 0.7086 - acc: 0.7684 - val_loss: 0.7960 - val_acc: 0.7214\n",
      "Epoch 27/50\n",
      "1/1 - 0s - loss: 0.6025 - acc: 0.7684 - val_loss: 0.7865 - val_acc: 0.7149\n",
      "Epoch 28/50\n",
      "1/1 - 0s - loss: 0.6228 - acc: 0.7736 - val_loss: 0.7252 - val_acc: 0.7196\n",
      "Epoch 29/50\n",
      "1/1 - 0s - loss: 0.5939 - acc: 0.7551 - val_loss: 0.7150 - val_acc: 0.7140\n",
      "Epoch 30/50\n",
      "1/1 - 0s - loss: 0.5548 - acc: 0.7643 - val_loss: 0.7026 - val_acc: 0.7048\n",
      "Epoch 31/50\n",
      "1/1 - 0s - loss: 0.4996 - acc: 0.7787 - val_loss: 0.7059 - val_acc: 0.6993\n",
      "Epoch 32/50\n",
      "1/1 - 0s - loss: 0.4771 - acc: 0.7787 - val_loss: 0.7002 - val_acc: 0.7011\n",
      "Epoch 33/50\n",
      "1/1 - 0s - loss: 0.5246 - acc: 0.7643 - val_loss: 0.6989 - val_acc: 0.7011\n",
      "Epoch 34/50\n",
      "1/1 - 0s - loss: 0.4415 - acc: 0.7879 - val_loss: 0.6653 - val_acc: 0.7020\n",
      "Epoch 35/50\n",
      "1/1 - 0s - loss: 0.4906 - acc: 0.7838 - val_loss: 0.6681 - val_acc: 0.7140\n",
      "Epoch 36/50\n",
      "1/1 - 0s - loss: 0.4424 - acc: 0.7930 - val_loss: 0.6928 - val_acc: 0.7251\n",
      "Epoch 37/50\n",
      "1/1 - 0s - loss: 0.4501 - acc: 0.8227 - val_loss: 0.7125 - val_acc: 0.7251\n",
      "Epoch 38/50\n",
      "1/1 - 0s - loss: 0.4873 - acc: 0.7971 - val_loss: 0.7517 - val_acc: 0.7269\n",
      "Epoch 39/50\n",
      "1/1 - 0s - loss: 0.4370 - acc: 0.8207 - val_loss: 0.7639 - val_acc: 0.7269\n",
      "Epoch 40/50\n",
      "1/1 - 0s - loss: 0.4164 - acc: 0.8227 - val_loss: 0.7900 - val_acc: 0.7196\n",
      "Epoch 41/50\n",
      "1/1 - 0s - loss: 0.4679 - acc: 0.8330 - val_loss: 0.7416 - val_acc: 0.7214\n",
      "Epoch 42/50\n",
      "1/1 - 0s - loss: 0.4235 - acc: 0.8197 - val_loss: 0.6968 - val_acc: 0.7205\n",
      "Epoch 43/50\n",
      "1/1 - 0s - loss: 0.4123 - acc: 0.8105 - val_loss: 0.6880 - val_acc: 0.7168\n",
      "Epoch 44/50\n",
      "1/1 - 0s - loss: 0.4128 - acc: 0.8217 - val_loss: 0.7024 - val_acc: 0.7168\n",
      "Epoch 45/50\n",
      "1/1 - 0s - loss: 0.4096 - acc: 0.8176 - val_loss: 0.7179 - val_acc: 0.7159\n",
      "Epoch 46/50\n",
      "1/1 - 0s - loss: 0.4378 - acc: 0.8043 - val_loss: 0.7402 - val_acc: 0.7122\n",
      "Epoch 47/50\n",
      "1/1 - 0s - loss: 0.4417 - acc: 0.8043 - val_loss: 0.7524 - val_acc: 0.7149\n",
      "Epoch 48/50\n",
      "1/1 - 0s - loss: 0.4164 - acc: 0.8186 - val_loss: 0.7679 - val_acc: 0.7232\n",
      "Epoch 49/50\n",
      "1/1 - 0s - loss: 0.4100 - acc: 0.8268 - val_loss: 0.7741 - val_acc: 0.7297\n",
      "Epoch 50/50\n",
      "1/1 - 0s - loss: 0.4317 - acc: 0.8258 - val_loss: 0.7625 - val_acc: 0.7362\n"
     ]
    }
   ],
   "source": [
    "history = model.fit(\n",
    "    train_flow, epochs=epochs, validation_data=test_flow, verbose=2, shuffle=False\n",
    ")"
   ]
  },
  {
   "cell_type": "markdown",
   "metadata": {},
   "source": [
    "Plot the training history:"
   ]
  },
  {
   "cell_type": "code",
   "execution_count": 17,
   "metadata": {},
   "outputs": [
    {
     "data": {
      "image/png": "[encoded data removed]",
      "text/plain": [
       "<Figure size 504x576 with 2 Axes>"
      ]
     },
     "metadata": {
      "needs_background": "light"
     },
     "output_type": "display_data"
    }
   ],
   "source": [
    "sg.utils.plot_history(history)"
   ]
  },
  {
   "cell_type": "markdown",
   "metadata": {},
   "source": [
    "Evaluate the trained model on test citation links:"
   ]
  },
  {
   "cell_type": "code",
   "execution_count": 18,
   "metadata": {},
   "outputs": [
    {
     "name": "stdout",
     "output_type": "stream",
     "text": [
      "WARNING:tensorflow:sample_weight modes were coerced from\n",
      "  ...\n",
      "    to  \n",
      "  ['...']\n",
      "1/1 [==============================] - 0s 9ms/step - loss: 0.3435 - acc: 0.8750\n",
      "WARNING:tensorflow:sample_weight modes were coerced from\n",
      "  ...\n",
      "    to  \n",
      "  ['...']\n",
      "1/1 [==============================] - 0s 9ms/step - loss: 0.7625 - acc: 0.7362\n",
      "\n",
      "Train Set Metrics of the trained model:\n",
      "\tloss: 0.3435\n",
      "\tacc: 0.8750\n",
      "\n",
      "Test Set Metrics of the trained model:\n",
      "\tloss: 0.7625\n",
      "\tacc: 0.7362\n"
     ]
    }
   ],
   "source": [
    "train_metrics = model.evaluate(train_flow)\n",
    "test_metrics = model.evaluate(test_flow)\n",
    "\n",
    "print(\"\\nTrain Set Metrics of the trained model:\")\n",
    "for name, val in zip(model.metrics_names, train_metrics):\n",
    "    print(\"\\t{}: {:0.4f}\".format(name, val))\n",
    "\n",
    "print(\"\\nTest Set Metrics of the trained model:\")\n",
    "for name, val in zip(model.metrics_names, test_metrics):\n",
    "    print(\"\\t{}: {:0.4f}\".format(name, val))"
   ]
  },
  {
   "cell_type": "markdown",
   "metadata": {
    "tags": [
     "CloudRunner"
    ]
   },
   "source": [
    "<table><tr><td>Run the master version of this notebook:</td><td><a href=\"https://mybinder.org/v2/gh/stellargraph/stellargraph/master?urlpath=lab/tree/demos/link-prediction/gcn/cora-gcn-links-example.ipynb\" alt=\"Open In Binder\" target=\"_parent\"><img src=\"https://mybinder.org/badge_logo.svg\"/></a></td><td><a href=\"https://colab.research.google.com/github/stellargraph/stellargraph/blob/master/demos/link-prediction/gcn/cora-gcn-links-example.ipynb\" alt=\"Open In Colab\" target=\"_parent\"><img src=\"https://colab.research.google.com/assets/colab-badge.svg\"/></a></td></tr></table>"
   ]
  }
 ],
 "metadata": {
  "file_extension": ".py",
  "kernelspec": {
   "display_name": "Python 3",
   "language": "python",
   "name": "python3"
  },
  "language_info": {
   "codemirror_mode": {
    "name": "ipython",
    "version": 3
   },
   "file_extension": ".py",
   "mimetype": "text/x-python",
   "name": "python",
   "nbconvert_exporter": "python",
   "pygments_lexer": "ipython3",
   "version": "3.6.9"
  },
  "mimetype": "text/x-python",
  "name": "python",
  "npconvert_exporter": "python",
  "pygments_lexer": "ipython3",
  "version": 3
 },
 "nbformat": 4,
 "nbformat_minor": 4
}
