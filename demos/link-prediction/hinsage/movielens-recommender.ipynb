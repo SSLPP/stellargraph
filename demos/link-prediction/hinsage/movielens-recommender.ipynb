{
 "cells": [
  {
   "cell_type": "markdown",
   "metadata": {},
   "source": [
    "# Stellargraph example: Heterogeneous GraphSAGE on the Movielens recommendation dataset"
   ]
  },
  {
   "cell_type": "markdown",
   "metadata": {
    "tags": [
     "CloudRunner"
    ]
   },
   "source": [
    "<table><tr><td>Run the master version of this notebook:</td><td><a href=\"https://mybinder.org/v2/gh/stellargraph/stellargraph/master?urlpath=lab/tree/demos/link-prediction/hinsage/movielens-recommender.ipynb\" alt=\"Open In Binder\" target=\"_parent\"><img src=\"https://mybinder.org/badge_logo.svg\"/></a></td><td><a href=\"https://colab.research.google.com/github/stellargraph/stellargraph/blob/master/demos/link-prediction/hinsage/movielens-recommender.ipynb\" alt=\"Open In Colab\" target=\"_parent\"><img src=\"https://colab.research.google.com/assets/colab-badge.svg\"/></a></td></tr></table>"
   ]
  },
  {
   "cell_type": "markdown",
   "metadata": {},
   "source": [
    "In this example, we use our generalisation of the [GraphSAGE](http://snap.stanford.edu/graphsage/) algorithm to heterogeneous graphs (which we call HinSAGE) to build a model that predicts user-movie ratings in the Movielens dataset (see below). The problem is treated as a supervised link attribute inference problem on a user-movie network with nodes of two types (users and movies, both attributed) and links corresponding to user-movie ratings, with integer `rating` attributes from 1 to 5 (note that if a user hasn't rated a movie, the corresponding user-movie link does not exist in the network).\n",
    "\n",
    "To address this problem, we build a model with the following architecture: a two-layer HinSAGE model that takes labeled `(user, movie)` node pairs corresponding to user-movie ratings, and outputs a pair of node embeddings for the `user` and `movie` nodes of the pair. These embeddings are then fed into a link regression layer, which applies a binary operator to those node embeddings (e.g., concatenating them) to construct the link embedding. Thus obtained link embeddings are passed through the link regression layer to obtain predicted user-movie ratings. The entire model is trained end-to-end by minimizing the loss function of choice (e.g., root mean square error between predicted and true ratings) using stochastic gradient descent (SGD) updates of the model parameters, with minibatches of user-movie training links fed into the model."
   ]
  },
  {
   "cell_type": "code",
   "execution_count": 1,
   "metadata": {
    "tags": [
     "CloudRunner"
    ]
   },
   "outputs": [],
   "source": [
    "# install StellarGraph if running on Google Colab\n",
    "import sys\n",
    "if 'google.colab' in sys.modules:\n",
    "  %pip install -q stellargraph[demos]==1.0.0rc1"
   ]
  },
  {
   "cell_type": "code",
   "execution_count": 2,
   "metadata": {
    "tags": [
     "VersionCheck"
    ]
   },
   "outputs": [],
   "source": [
    "# verify that we're using the correct version of StellarGraph for this notebook\n",
    "import stellargraph as sg\n",
    "\n",
    "try:\n",
    "    sg.utils.validate_notebook_version(\"1.0.0rc1\")\n",
    "except AttributeError:\n",
    "    raise ValueError(\n",
    "        f\"This notebook requires StellarGraph version 1.0.0rc1, but a different version {sg.__version__} is installed.  Please see <https://github.com/stellargraph/stellargraph/issues/1172>.\"\n",
    "    ) from None"
   ]
  },
  {
   "cell_type": "code",
   "execution_count": 3,
   "metadata": {},
   "outputs": [],
   "source": [
    "import json\n",
    "import pandas as pd\n",
    "import numpy as np\n",
    "from sklearn import preprocessing, feature_extraction, model_selection\n",
    "from sklearn.metrics import mean_absolute_error, mean_squared_error\n",
    "\n",
    "import stellargraph as sg\n",
    "from stellargraph.mapper import HinSAGELinkGenerator\n",
    "from stellargraph.layer import HinSAGE, link_regression\n",
    "from tensorflow.keras import Model, optimizers, losses, metrics\n",
    "\n",
    "import multiprocessing\n",
    "from stellargraph import datasets\n",
    "from IPython.display import display, HTML\n",
    "import matplotlib.pyplot as plt\n",
    "%matplotlib inline"
   ]
  },
  {
   "cell_type": "markdown",
   "metadata": {},
   "source": [
    "Specify the minibatch size (number of user-movie links per minibatch) and the number of epochs for training the ML model:"
   ]
  },
  {
   "cell_type": "code",
   "execution_count": 4,
   "metadata": {
    "tags": [
     "parameters"
    ]
   },
   "outputs": [],
   "source": [
    "batch_size = 200\n",
    "epochs = 20\n",
    "# Use 70% of edges for training, the rest for testing:\n",
    "train_size = 0.7\n",
    "test_size = 0.3"
   ]
  },
  {
   "cell_type": "markdown",
   "metadata": {},
   "source": [
    "### Load the dataset"
   ]
  },
  {
   "cell_type": "code",
   "execution_count": 5,
   "metadata": {},
   "outputs": [
    {
     "data": {
      "text/html": [
       "The MovieLens 100K dataset contains 100,000 ratings from 943 users on 1682 movies."
      ],
      "text/plain": [
       "<IPython.core.display.HTML object>"
      ]
     },
     "metadata": {},
     "output_type": "display_data"
    }
   ],
   "source": [
    "dataset = datasets.MovieLens()\n",
    "display(HTML(dataset.description))\n",
    "G, edges_with_ratings = dataset.load()"
   ]
  },
  {
   "cell_type": "code",
   "execution_count": 6,
   "metadata": {},
   "outputs": [
    {
     "name": "stdout",
     "output_type": "stream",
     "text": [
      "StellarGraph: Undirected multigraph\n",
      " Nodes: 2625, Edges: 100000\n",
      "\n",
      " Node types:\n",
      "  movie: [1682]\n",
      "    Features: float32 vector, length 19\n",
      "    Edge types: movie-rating->user\n",
      "  user: [943]\n",
      "    Features: float32 vector, length 24\n",
      "    Edge types: user-rating->movie\n",
      "\n",
      " Edge types:\n",
      "    user-rating->movie: [100000]\n"
     ]
    }
   ],
   "source": [
    "print(G.info())"
   ]
  },
  {
   "cell_type": "markdown",
   "metadata": {},
   "source": [
    "Split the edges into train and test sets for model training/evaluation:"
   ]
  },
  {
   "cell_type": "code",
   "execution_count": 7,
   "metadata": {},
   "outputs": [],
   "source": [
    "edges_train, edges_test = model_selection.train_test_split(\n",
    "    edges_with_ratings, train_size=train_size, test_size=test_size\n",
    ")\n",
    "\n",
    "edgelist_train = edges_train[[\"user_id\", \"movie_id\"]].to_numpy()\n",
    "edgelist_test = edges_test[[\"user_id\", \"movie_id\"]].to_numpy()\n",
    "\n",
    "labels_train = edges_train[\"rating\"]\n",
    "labels_test = edges_test[\"rating\"]"
   ]
  },
  {
   "cell_type": "markdown",
   "metadata": {},
   "source": [
    "Our machine learning task of learning user-movie ratings can be framed as a supervised Link Attribute Inference: given a graph of user-movie ratings, we train a model for rating prediction using the ratings edges_train, and evaluate it using the test ratings edges_test. The model also requires the user-movie graph structure, to do the neighbour sampling required by the HinSAGE algorithm."
   ]
  },
  {
   "cell_type": "markdown",
   "metadata": {},
   "source": [
    "We create the link mappers for sampling and streaming training and testing data to the model. The link mappers essentially \"map\" user-movie links to the input of HinSAGE: they take minibatches of user-movie links, sample 2-hop subgraphs of G with `(user, movie)` head nodes extracted from those user-movie links, and feed them, together with the corresponding user-movie ratings, to the input layer of the HinSAGE model, for SGD updates of the model parameters."
   ]
  },
  {
   "cell_type": "markdown",
   "metadata": {},
   "source": [
    "Specify the sizes of 1- and 2-hop neighbour samples for HinSAGE:\n",
    "\n",
    "Note that the length of `num_samples` list defines the number of layers/iterations in the HinSAGE model."
   ]
  },
  {
   "cell_type": "code",
   "execution_count": 8,
   "metadata": {},
   "outputs": [],
   "source": [
    "num_samples = [8, 4]"
   ]
  },
  {
   "cell_type": "markdown",
   "metadata": {},
   "source": [
    "Create the generators to feed data from the graph to the Keras model. We need to specify the nodes types for the user-movie pairs that we will feed to the model. The `shuffle=True` argument is given to the `flow` method to improve training."
   ]
  },
  {
   "cell_type": "code",
   "execution_count": 9,
   "metadata": {},
   "outputs": [],
   "source": [
    "generator = HinSAGELinkGenerator(\n",
    "    G, batch_size, num_samples, head_node_types=[\"user\", \"movie\"]\n",
    ")\n",
    "train_gen = generator.flow(edgelist_train, labels_train, shuffle=True)\n",
    "test_gen = generator.flow(edgelist_test, labels_test)"
   ]
  },
  {
   "cell_type": "markdown",
   "metadata": {},
   "source": [
    "Build the model by stacking a two-layer HinSAGE model and a link regression layer on top.\n",
    "\n",
    "First, we define the HinSAGE part of the model, with hidden layer sizes of 32 for both HinSAGE layers, a bias term, and no dropout. (Dropout can be switched on by specifying a positive `dropout` rate, `0 < dropout < 1`)\n",
    "\n",
    "Note that the length of `layer_sizes` list must be equal to the length of `num_samples`, as `len(num_samples)` defines the number of hops (layers) in the HinSAGE model."
   ]
  },
  {
   "cell_type": "code",
   "execution_count": 10,
   "metadata": {},
   "outputs": [
    {
     "data": {
      "text/plain": [
       "[('user', [2]),\n",
       " ('movie', [3]),\n",
       " ('movie', [4]),\n",
       " ('user', [5]),\n",
       " ('user', []),\n",
       " ('movie', [])]"
      ]
     },
     "execution_count": 9,
     "metadata": {},
     "output_type": "execute_result"
    }
   ],
   "source": [
    "generator.schema.type_adjacency_list(generator.head_node_types, len(num_samples))"
   ]
  },
  {
   "cell_type": "code",
   "execution_count": 11,
   "metadata": {},
   "outputs": [
    {
     "data": {
      "text/plain": [
       "{'user': [EdgeType(n1='user', rel='rating', n2='movie')],\n",
       " 'movie': [EdgeType(n1='movie', rel='rating', n2='user')]}"
      ]
     },
     "execution_count": 10,
     "metadata": {},
     "output_type": "execute_result"
    }
   ],
   "source": [
    "generator.schema.schema"
   ]
  },
  {
   "cell_type": "code",
   "execution_count": 12,
   "metadata": {},
   "outputs": [],
   "source": [
    "hinsage_layer_sizes = [32, 32]\n",
    "assert len(hinsage_layer_sizes) == len(num_samples)\n",
    "\n",
    "hinsage = HinSAGE(\n",
    "    layer_sizes=hinsage_layer_sizes, generator=generator, bias=True, dropout=0.0\n",
    ")"
   ]
  },
  {
   "cell_type": "code",
   "execution_count": 13,
   "metadata": {},
   "outputs": [],
   "source": [
    "# Expose input and output sockets of hinsage:\n",
    "x_inp, x_out = hinsage.in_out_tensors()"
   ]
  },
  {
   "cell_type": "markdown",
   "metadata": {},
   "source": [
    "Add the final estimator layer for predicting the ratings. The edge_embedding_method argument specifies the way in which node representations (node embeddings) are combined into link representations (recall that links represent user-movie ratings, and are thus pairs of (user, movie) nodes). In this example, we will use 'concat', i.e., node embeddings are concatenated to get link embeddings."
   ]
  },
  {
   "cell_type": "code",
   "execution_count": 14,
   "metadata": {},
   "outputs": [
    {
     "name": "stdout",
     "output_type": "stream",
     "text": [
      "link_regression: using 'concat' method to combine node embeddings into edge embeddings\n"
     ]
    }
   ],
   "source": [
    "# Final estimator layer\n",
    "score_prediction = link_regression(edge_embedding_method=\"concat\")(x_out)"
   ]
  },
  {
   "cell_type": "markdown",
   "metadata": {},
   "source": [
    "Create the Keras model, and compile it by specifying the optimizer, loss function to optimise, and metrics for diagnostics:"
   ]
  },
  {
   "cell_type": "code",
   "execution_count": 15,
   "metadata": {},
   "outputs": [],
   "source": [
    "import tensorflow.keras.backend as K\n",
    "\n",
    "\n",
    "def root_mean_square_error(s_true, s_pred):\n",
    "    return K.sqrt(K.mean(K.pow(s_true - s_pred, 2)))\n",
    "\n",
    "\n",
    "model = Model(inputs=x_inp, outputs=score_prediction)\n",
    "model.compile(\n",
    "    optimizer=optimizers.Adam(lr=1e-2),\n",
    "    loss=losses.mean_squared_error,\n",
    "    metrics=[root_mean_square_error, metrics.mae],\n",
    ")"
   ]
  },
  {
   "cell_type": "markdown",
   "metadata": {},
   "source": [
    "Summary of the model:"
   ]
  },
  {
   "cell_type": "code",
   "execution_count": 16,
   "metadata": {},
   "outputs": [
    {
     "name": "stdout",
     "output_type": "stream",
     "text": [
      "Model: \"model\"\n",
      "__________________________________________________________________________________________________\n",
      "Layer (type)                    Output Shape         Param #     Connected to                     \n",
      "==================================================================================================\n",
      "input_3 (InputLayer)            [(None, 8, 19)]      0                                            \n",
      "__________________________________________________________________________________________________\n",
      "input_5 (InputLayer)            [(None, 32, 24)]     0                                            \n",
      "__________________________________________________________________________________________________\n",
      "input_6 (InputLayer)            [(None, 32, 19)]     0                                            \n",
      "__________________________________________________________________________________________________\n",
      "input_1 (InputLayer)            [(None, 1, 24)]      0                                            \n",
      "__________________________________________________________________________________________________\n",
      "reshape (Reshape)               (None, 1, 8, 19)     0           input_3[0][0]                    \n",
      "__________________________________________________________________________________________________\n",
      "reshape_2 (Reshape)             (None, 8, 4, 24)     0           input_5[0][0]                    \n",
      "__________________________________________________________________________________________________\n",
      "input_4 (InputLayer)            [(None, 8, 24)]      0                                            \n",
      "__________________________________________________________________________________________________\n",
      "reshape_3 (Reshape)             (None, 8, 4, 19)     0           input_6[0][0]                    \n",
      "__________________________________________________________________________________________________\n",
      "dropout_1 (Dropout)             (None, 1, 24)        0           input_1[0][0]                    \n",
      "__________________________________________________________________________________________________\n",
      "dropout (Dropout)               (None, 1, 8, 19)     0           reshape[0][0]                    \n",
      "__________________________________________________________________________________________________\n",
      "dropout_5 (Dropout)             (None, 8, 19)        0           input_3[0][0]                    \n",
      "__________________________________________________________________________________________________\n",
      "dropout_4 (Dropout)             (None, 8, 4, 24)     0           reshape_2[0][0]                  \n",
      "__________________________________________________________________________________________________\n",
      "input_2 (InputLayer)            [(None, 1, 19)]      0                                            \n",
      "__________________________________________________________________________________________________\n",
      "reshape_1 (Reshape)             (None, 1, 8, 24)     0           input_4[0][0]                    \n",
      "__________________________________________________________________________________________________\n",
      "dropout_7 (Dropout)             (None, 8, 24)        0           input_4[0][0]                    \n",
      "__________________________________________________________________________________________________\n",
      "dropout_6 (Dropout)             (None, 8, 4, 19)     0           reshape_3[0][0]                  \n",
      "__________________________________________________________________________________________________\n",
      "mean_hin_aggregator (MeanHinAgg multiple             720         dropout_1[0][0]                  \n",
      "                                                                 dropout[0][0]                    \n",
      "                                                                 dropout_7[0][0]                  \n",
      "                                                                 dropout_6[0][0]                  \n",
      "__________________________________________________________________________________________________\n",
      "mean_hin_aggregator_1 (MeanHinA multiple             720         dropout_3[0][0]                  \n",
      "                                                                 dropout_2[0][0]                  \n",
      "                                                                 dropout_5[0][0]                  \n",
      "                                                                 dropout_4[0][0]                  \n",
      "__________________________________________________________________________________________________\n",
      "dropout_3 (Dropout)             (None, 1, 19)        0           input_2[0][0]                    \n",
      "__________________________________________________________________________________________________\n",
      "dropout_2 (Dropout)             (None, 1, 8, 24)     0           reshape_1[0][0]                  \n",
      "__________________________________________________________________________________________________\n",
      "reshape_4 (Reshape)             (None, 1, 8, 32)     0           mean_hin_aggregator_1[1][0]      \n",
      "__________________________________________________________________________________________________\n",
      "reshape_5 (Reshape)             (None, 1, 8, 32)     0           mean_hin_aggregator[1][0]        \n",
      "__________________________________________________________________________________________________\n",
      "dropout_9 (Dropout)             (None, 1, 32)        0           mean_hin_aggregator[0][0]        \n",
      "__________________________________________________________________________________________________\n",
      "dropout_8 (Dropout)             (None, 1, 8, 32)     0           reshape_4[0][0]                  \n",
      "__________________________________________________________________________________________________\n",
      "dropout_11 (Dropout)            (None, 1, 32)        0           mean_hin_aggregator_1[0][0]      \n",
      "__________________________________________________________________________________________________\n",
      "dropout_10 (Dropout)            (None, 1, 8, 32)     0           reshape_5[0][0]                  \n",
      "__________________________________________________________________________________________________\n",
      "mean_hin_aggregator_2 (MeanHinA (None, 1, 32)        1056        dropout_9[0][0]                  \n",
      "                                                                 dropout_8[0][0]                  \n",
      "__________________________________________________________________________________________________\n",
      "mean_hin_aggregator_3 (MeanHinA (None, 1, 32)        1056        dropout_11[0][0]                 \n",
      "                                                                 dropout_10[0][0]                 \n",
      "__________________________________________________________________________________________________\n",
      "reshape_6 (Reshape)             (None, 32)           0           mean_hin_aggregator_2[0][0]      \n",
      "__________________________________________________________________________________________________\n",
      "reshape_7 (Reshape)             (None, 32)           0           mean_hin_aggregator_3[0][0]      \n",
      "__________________________________________________________________________________________________\n",
      "lambda (Lambda)                 (None, 32)           0           reshape_6[0][0]                  \n",
      "                                                                 reshape_7[0][0]                  \n",
      "__________________________________________________________________________________________________\n",
      "link_embedding (LinkEmbedding)  (None, 64)           0           lambda[0][0]                     \n",
      "                                                                 lambda[1][0]                     \n",
      "__________________________________________________________________________________________________\n",
      "dense (Dense)                   (None, 1)            65          link_embedding[0][0]             \n",
      "__________________________________________________________________________________________________\n",
      "reshape_8 (Reshape)             (None, 1)            0           dense[0][0]                      \n",
      "==================================================================================================\n",
      "Total params: 3,617\n",
      "Trainable params: 3,617\n",
      "Non-trainable params: 0\n",
      "__________________________________________________________________________________________________\n"
     ]
    }
   ],
   "source": [
    "model.summary()"
   ]
  },
  {
   "cell_type": "code",
   "execution_count": 17,
   "metadata": {},
   "outputs": [],
   "source": [
    "# Specify the number of workers to use for model training\n",
    "num_workers = 4"
   ]
  },
  {
   "cell_type": "markdown",
   "metadata": {},
   "source": [
    "Evaluate the fresh (untrained) model on the test set (for reference):"
   ]
  },
  {
   "cell_type": "code",
   "execution_count": 18,
   "metadata": {},
   "outputs": [
    {
     "name": "stdout",
     "output_type": "stream",
     "text": [
      "  ['...']\n",
      "150/150 [==============================] - 18s 123ms/step - loss: 13.1314 - root_mean_square_error: 3.6231 - mean_absolute_error: 3.4458: 12s - loss: 13.0940 - root_ - ETA: 5s - loss: 13.1473 - root_mean_square_error: 3.6252 - mean_ab\n",
      "Untrained model's Test Evaluation:\n",
      "\tloss: 13.1314\n",
      "\troot_mean_square_error: 3.6231\n",
      "\tmean_absolute_error: 3.4458\n"
     ]
    }
   ],
   "source": [
    "test_metrics = model.evaluate(\n",
    "    test_gen, verbose=1, use_multiprocessing=False, workers=num_workers\n",
    ")\n",
    "\n",
    "print(\"Untrained model's Test Evaluation:\")\n",
    "for name, val in zip(model.metrics_names, test_metrics):\n",
    "    print(\"\\t{}: {:0.4f}\".format(name, val))"
   ]
  },
  {
   "cell_type": "markdown",
   "metadata": {},
   "source": [
    "Train the model by feeding the data from the graph in minibatches, using mapper_train, and get validation metrics after each epoch:"
   ]
  },
  {
   "cell_type": "code",
   "execution_count": 19,
   "metadata": {},
   "outputs": [
    {
     "name": "stdout",
     "output_type": "stream",
     "text": [
      "  ['...']\n",
      "  ['...']\n",
      "Train for 350 steps, validate for 150 steps\n",
      "Epoch 1/20\n",
      "350/350 [==============================] - 63s 181ms/step - loss: 1.3614 - root_mean_square_error: 1.1402 - mean_absolute_error: 0.9432 - val_loss: 1.1606 - val_root_mean_square_error: 1.0762 - val_mean_absolute_error: 0.8712mean_square_error: 1.1855 - mean_ab - ETA: 17s - lo - ETA: 7s -\n",
      "Epoch 2/20\n",
      "350/350 [==============================] - 60s 172ms/step - loss: 1.1558 - root_mean_square_error: 1.0739 - mean_absolute_error: 0.8735 - val_loss: 1.1355 - val_root_mean_square_error: 1.0645 - val_mean_absolute_error: 0.866090 - mea - ETA: 10s - loss: 1.1612 - root_mean_square_error: 1.0763 - mean_abs\n",
      "Epoch 3/20\n",
      "350/350 [==============================] - 60s 173ms/step - loss: 1.1367 - root_mean_square_error: 1.0648 - mean_absolute_error: 0.8633 - val_loss: 1.1248 - val_root_mean_square_error: 1.0594 - val_mean_absolute_error: 0.85905 - mean_absolute_err\n",
      "Epoch 4/20\n",
      "350/350 [==============================] - 60s 173ms/step - loss: 1.1248 - root_mean_square_error: 1.0594 - mean_absolute_error: 0.8578 - val_loss: 1.1124 - val_root_mean_square_error: 1.0536 - val_mean_absolute_error: 0.8568\n",
      "Epoch 5/20\n",
      "350/350 [==============================] - 61s 173ms/step - loss: 1.1215 - root_mean_square_error: 1.0578 - mean_absolute_error: 0.8563 - val_loss: 1.1037 - val_root_mean_square_error: 1.0494 - val_mean_absolute_error: 0.8454uare_error: 1.0518 - mean_absolute_error: 0.84 - ETA: 40s - loss: 1.1104 - root_mean_square_error: 1.0526 - mean - ETA: 20s - loss: 1.1084 - root_mean_squar - ETA: 13s - loss: 1.1180 - root_mean_square_error: 1.0560 - mean_absol - ETA: 10s - loss: 1.1190 - root_mean_square_error: 1.0566 -\n",
      "Epoch 6/20\n",
      "350/350 [==============================] - 62s 178ms/step - loss: 1.1119 - root_mean_square_error: 1.0533 - mean_absolute_error: 0.8516 - val_loss: 1.1054 - val_root_mean_square_error: 1.0503 - val_mean_absolute_error: 0.8506\n",
      "Epoch 7/20\n",
      "350/350 [==============================] - 61s 175ms/step - loss: 1.1057 - root_mean_square_error: 1.0505 - mean_absolute_error: 0.8482 - val_loss: 1.1201 - val_root_mean_square_error: 1.0574 - val_mean_absolute_error: 0.864551 - mean_absolute_erro - ETA: 33s - loss: 1.0958 - root_mean_square_error: 1 - ETA: 27s - loss: 1.1026 - root_mean_square_error: 1.0491 - mean_absolute_error:  - ETA: 26s - loss: 1.1034 - root_mean_square_error: 1.0495 - mean_a - ETA: 23s - loss: 1.1020 - root_mean_square_error: 1.0488 - mean_absolute_error: 0. - ETA: 22s - loss: 1.1032 - root_mean_square_error: 1.049 - ETA: 17s - loss: 1.1038 - root_mean_square_error: 1.0497 - mean_absolute_er - ETA: 15s - loss: 1.1043 - root_mean_square_error: 1.0499 - mean_absolute_error: 0.8 - ETA: 15 - ETA: 6s - loss: 1.1046 - root\n",
      "Epoch 8/20\n",
      "350/350 [==============================] - 61s 175ms/step - loss: 1.1018 - root_mean_square_error: 1.0485 - mean_absolute_error: 0.8471 - val_loss: 1.0947 - val_root_mean_square_error: 1.0451 - val_mean_absolute_error: 0.8389s - loss: 1.1020 - root_mean_square_error: 1.0486 -  - ETA: 28s - loss: 1.1048 - root_mean_squa\n",
      "Epoch 9/20\n",
      "350/350 [==============================] - 61s 174ms/step - loss: 1.0990 - root_mean_square_error: 1.0471 - mean_absolute_error: 0.8445 - val_loss: 1.0964 - val_root_mean_square_error: 1.0458 - val_mean_absolute_error: 0.83360 - ETA: 34s - loss: 1.1025 - root_mean_square_error: 1.0491 - mean_absolute_error: 0.8 - ETA: 33s - loss: 1.10 - ETA: 22s - loss: 1.1049 - root_mean_square_error: 1.0501 - mean_absolute_err - ETA: 21s - loss: 1.1047 - root_mean_squ - ETA: 5s - loss: 1.0990 - root_mean_square - ETA: 2s - loss: 1.1004 - root_mean_square_error: 1.0478 - mean_absolute_err\n",
      "Epoch 10/20\n",
      "350/350 [==============================] - 61s 174ms/step - loss: 1.0972 - root_mean_square_error: 1.0462 - mean_absolute_error: 0.8438 - val_loss: 1.0896 - val_root_mean_square_error: 1.0426 - val_mean_absolute_error: 0.8328 ETA: 38s - loss: 1.0944 - root_mean_square_error: 1.0449 - mean_absol - ETA: 33s - loss: 1.1018 - root_mean_square_error: 1.0484 - mean_absol - ETA: 30s - loss: 1.1039 - root_mean_square_error: 1.0494 - mean_ab - ETA: 26s - loss: 1.0994 - root_mean_square_error: 1.0473 - mean_absolute_error: 0.8 - ETA: 26s - loss: 1.1000 - root_mean_square_error: 1\n",
      "Epoch 11/20\n",
      "350/350 [==============================] - 61s 174ms/step - loss: 1.0918 - root_mean_square_error: 1.0437 - mean_absolute_error: 0.8421 - val_loss: 1.1184 - val_root_mean_square_error: 1.0562 - val_mean_absolute_error: 0.83419 - root_mean_square_error: 1.041 - ETA: 25s - loss: 1.0837 - root_mean_squ - ETA: 17s - loss: 1.0942 - root_mean_square_error: 1.0448 - mean_absolute_error: 0.84 - ETA: 17s - loss: 1.0939 - root_m\n",
      "Epoch 12/20\n",
      "350/350 [==============================] - 61s 174ms/step - loss: 1.0905 - root_mean_square_error: 1.0431 - mean_absolute_error: 0.8410 - val_loss: 1.0849 - val_root_mean_square_error: 1.0405 - val_mean_absolute_error: 0.8396\n",
      "Epoch 13/20\n",
      "350/350 [==============================] - 61s 173ms/step - loss: 1.0858 - root_mean_square_error: 1.0409 - mean_absolute_error: 0.8395 - val_loss: 1.0834 - val_root_mean_square_error: 1.0397 - val_mean_absolute_error: 0.8394an_squ - ETA: 31s - loss: 1.0770 - root_mean_square_error: 1.0369 - mean_absolute_ - ETA: 29s - loss: 1.0787 - root_mean_square_error: 1.0376 - mea - ETA: 25s - loss: 1.0858 - root_mean_square_error: 1.0411 - me - ETA: 21s - loss: 1.0866 - root_mean_square_error: 1.0414 - mean_absolute_err - ETA: 20s - loss: 1.0878 - root_mean_square_error: 1.0419 - mean_absol - ETA: - ETA: 7s\n",
      "Epoch 14/20\n",
      "350/350 [==============================] - 61s 174ms/step - loss: 1.0864 - root_mean_square_error: 1.0410 - mean_absolute_error: 0.8394 - val_loss: 1.0806 - val_root_mean_square_error: 1.0384 - val_mean_absolute_error: 0.8342re_error: 1.0431 - mean_absolute_error: 0.84 - ETA: 25s - loss: 1.0904 - root_mean_square_error: 1.0429 - mean_absolute_err - ETA: 23s - loss: 1.0889 - root_mean_square_error: 1.0421 - mean_abs - ETA: 20s - loss: 1.0831 - root_mean_square_error: 1.03 - ETA: 15s - loss: 1.0802 - root_mean_square_error: 1.0380 - mean_absolute_error: 0 - ETA: 14s - loss: 1.0798 - root_mean_square_error: 1.0378 - mean_absolute_error: 0.835 - ETA: 14s - loss: 1.0796 - root_mean_square_error: 1.0378 - mean_absolut - ETA: 12s - loss: 1.0797 - root_mean_square_err\n",
      "Epoch 15/20\n",
      "350/350 [==============================] - 61s 174ms/step - loss: 1.0822 - root_mean_square_error: 1.0390 - mean_absolute_error: 0.8370 - val_loss: 1.0813 - val_root_mean_square_error: 1.0387 - val_mean_absolute_error: 0.8375n_absolute_erro - ETA: 14s - lo - ETA: 6s - loss: 1.0832 - root_mean_square_error: 1. - ETA: 4s - loss: 1.0821 - root_mean_square_error: 1.0390 -\n",
      "Epoch 16/20\n",
      "350/350 [==============================] - 61s 174ms/step - loss: 1.0843 - root_mean_square_error: 1.0401 - mean_absolute_error: 0.8391 - val_loss: 1.0830 - val_root_mean_square_error: 1.0395 - val_mean_absolute_error: 0.8406.0774 - root_mean_square_error: 1.0368 - mean_absolute_ - ETA: 34s - loss: 1.0798 - root_mean_square_error: 1.0380 - mean_absolute_error:  - ETA: 33s - loss: 1.0854 - root_mean_square_error: 1.0407 - mean_absolute_e - ETA: 31s - loss: 1.0845 - root_mean_square_error: 1.0 - ETA: 25s - loss: 1. - ETA: 15s - loss: 1.0827 - root\n",
      "Epoch 17/20\n",
      "350/350 [==============================] - 61s 175ms/step - loss: 1.0838 - root_mean_square_error: 1.0399 - mean_absolute_error: 0.8377 - val_loss: 1.0757 - val_root_mean_square_error: 1.0361 - val_mean_absolute_error: 0.8381t_mean_square_error: 1.0409 - mean_ab - ETA: 12s - loss: 1.0817 - root_mean_square_error\n",
      "Epoch 18/20\n",
      "350/350 [==============================] - 61s 173ms/step - loss: 1.0805 - root_mean_square_error: 1.0383 - mean_absolute_error: 0.8364 - val_loss: 1.0722 - val_root_mean_square_error: 1.0343 - val_mean_absolute_error: 0.837093 - root_mean_square_error: 1.0320 - mean_ - ETA: 1:01 - loss: 1.0790 - root_mean_square_error: 1.0372 - mean_absol - ETA: 50s - loss: 1.0926 - root - ETA: 33s - loss: 1.0840 - root_mean_square_error: 1.0400 - mean_absolute_error: 0 - ETA: 32s -  - ETA: 19s - loss: 1.0772 - root_mean_square_error: 1.0366 - mean_absolute_error: - ETA: 18s - loss: 1.0773 - root_mean_square_error: 1.0367 - mea - ETA: 15s - loss: 1.0794 - root_mea\n",
      "Epoch 19/20\n",
      "350/350 [==============================] - 61s 174ms/step - loss: 1.0776 - root_mean_square_error: 1.0369 - mean_absolute_error: 0.8347 - val_loss: 1.0817 - val_root_mean_square_error: 1.0387 - val_mean_absolute_error: 0.8281s: 1.0884 - root_mean_square_error: 1.0419 - mean_absolute_error: - ETA - ETA: 22s - loss: 1.0905 - - ETA: 4s - loss: 1.0787 - root_mean_square_error: 1.0374 - mean_absolute_error - ETA: 4s - loss: 1.0781 - root_mean_square_error: 1.0371 -\n",
      "Epoch 20/20\n",
      "350/350 [==============================] - 61s 174ms/step - loss: 1.0796 - root_mean_square_error: 1.0379 - mean_absolute_error: 0.8363 - val_loss: 1.0718 - val_root_mean_square_error: 1.0341 - val_mean_absolute_error: 0.8287e_error: 1.0365 - mean_absolu - ETA: 31s - - ETA: 19s - loss: 1.0759 - root_mean_square_error: 1.0362 - mean_absolute_error: 0 - ETA: 18s - loss: 1.0763 - roo - ETA: 10s - loss: 1.0783 - root_mean_square_error: 1.0374 - mean - ETA: 8s - loss: 1.0784 - root_mean_square_error: 1.0374 - mean_absolute_error: 0. - ETA: 8s - loss: 1.0792 - root_mean_square_error: 1.0378 - mean_absolute_error: 0. - E - ETA: 2s - loss: 1.0781 - root_mean_square_error: 1.0372 - mean_absolute_error: 0.\n"
     ]
    }
   ],
   "source": [
    "history = model.fit(\n",
    "    train_gen,\n",
    "    validation_data=test_gen,\n",
    "    epochs=epochs,\n",
    "    verbose=1,\n",
    "    shuffle=False,\n",
    "    use_multiprocessing=False,\n",
    "    workers=num_workers,\n",
    ")"
   ]
  },
  {
   "cell_type": "markdown",
   "metadata": {},
   "source": [
    "Plot the training history:"
   ]
  },
  {
   "cell_type": "code",
   "execution_count": 20,
   "metadata": {},
   "outputs": [
    {
     "data": {
      "image/png": "[encoded data removed]",
      "text/plain": [
       "<Figure size 504x864 with 3 Axes>"
      ]
     },
     "metadata": {
      "needs_background": "light"
     },
     "output_type": "display_data"
    }
   ],
   "source": [
    "sg.utils.plot_history(history)"
   ]
  },
  {
   "cell_type": "markdown",
   "metadata": {},
   "source": [
    "Evaluate the trained model on test user-movie rankings:"
   ]
  },
  {
   "cell_type": "code",
   "execution_count": 21,
   "metadata": {},
   "outputs": [
    {
     "name": "stdout",
     "output_type": "stream",
     "text": [
      "  ['...']\n",
      "150/150 [==============================] - 18s 119ms/step - loss: 1.0715 - root_mean_square_error: 1.0339 - mean_absolute_error: 0.8291s - loss: 1.0638 \n",
      "Test Evaluation:\n",
      "\tloss: 1.0715\n",
      "\troot_mean_square_error: 1.0339\n",
      "\tmean_absolute_error: 0.8291\n"
     ]
    }
   ],
   "source": [
    "test_metrics = model.evaluate(\n",
    "    test_gen, use_multiprocessing=False, workers=num_workers, verbose=1\n",
    ")\n",
    "\n",
    "print(\"Test Evaluation:\")\n",
    "for name, val in zip(model.metrics_names, test_metrics):\n",
    "    print(\"\\t{}: {:0.4f}\".format(name, val))"
   ]
  },
  {
   "cell_type": "markdown",
   "metadata": {},
   "source": [
    "Compare the predicted test rankings with \"mean baseline\" rankings, to see how much better our model does compared to this (very simplistic) baseline:"
   ]
  },
  {
   "cell_type": "code",
   "execution_count": 22,
   "metadata": {},
   "outputs": [
    {
     "name": "stdout",
     "output_type": "stream",
     "text": [
      "Mean Baseline Test set metrics:\n",
      "\troot_mean_square_error =  1.1202962921576745\n",
      "\tmean_absolute_error =  0.9403507492701213\n",
      "\n",
      "Model Test set metrics:\n",
      "\troot_mean_square_error =  1.0356725718073565\n",
      "\tmean_absolute_error =  0.8285433219174544\n"
     ]
    }
   ],
   "source": [
    "y_true = labels_test\n",
    "# Predict the rankings using the model:\n",
    "y_pred = model.predict(test_gen)\n",
    "# Mean baseline rankings = mean movie ranking:\n",
    "y_pred_baseline = np.full_like(y_pred, np.mean(y_true))\n",
    "\n",
    "rmse = np.sqrt(mean_squared_error(y_true, y_pred_baseline))\n",
    "mae = mean_absolute_error(y_true, y_pred_baseline)\n",
    "print(\"Mean Baseline Test set metrics:\")\n",
    "print(\"\\troot_mean_square_error = \", rmse)\n",
    "print(\"\\tmean_absolute_error = \", mae)\n",
    "\n",
    "rmse = np.sqrt(mean_squared_error(y_true, y_pred))\n",
    "mae = mean_absolute_error(y_true, y_pred)\n",
    "print(\"\\nModel Test set metrics:\")\n",
    "print(\"\\troot_mean_square_error = \", rmse)\n",
    "print(\"\\tmean_absolute_error = \", mae)"
   ]
  },
  {
   "cell_type": "markdown",
   "metadata": {},
   "source": [
    "Compare the distributions of predicted and true rankings for the test set:"
   ]
  },
  {
   "cell_type": "code",
   "execution_count": 23,
   "metadata": {},
   "outputs": [
    {
     "data": {
      "image/png": "[encoded data removed]",
      "text/plain": [
       "<Figure size 432x288 with 1 Axes>"
      ]
     },
     "metadata": {
      "needs_background": "light"
     },
     "output_type": "display_data"
    }
   ],
   "source": [
    "h_true = plt.hist(y_true, bins=30, facecolor=\"green\", alpha=0.5)\n",
    "h_pred = plt.hist(y_pred, bins=30, facecolor=\"blue\", alpha=0.5)\n",
    "plt.xlabel(\"ranking\")\n",
    "plt.ylabel(\"count\")\n",
    "plt.legend((\"True\", \"Predicted\"))\n",
    "plt.show()"
   ]
  },
  {
   "cell_type": "markdown",
   "metadata": {},
   "source": [
    "We see that our model beats the \"mean baseline\" by a significant margin. To further improve the model, you can try increasing the number of training epochs, change the dropout rate, change the sample sizes for subgraph sampling `num_samples`, hidden layer sizes `layer_sizes` of the HinSAGE part of the model, or try increasing the number of HinSAGE layers.\n",
    "\n",
    "However, note that the distribution of predicted scores is still very narrow, and rarely gives 1, 2 or 5 as a score."
   ]
  },
  {
   "cell_type": "markdown",
   "metadata": {},
   "source": [
    "This model uses a bipartite user-movie graph to learn to predict movie ratings. It can be further enhanced by using additional relations, e.g., friendships between users, if they become available. And the best part is: the underlying algorithm of the model does not need to change at all to take these extra relations into account - all that changes is the graph that it learns from!"
   ]
  },
  {
   "cell_type": "markdown",
   "metadata": {
    "tags": [
     "CloudRunner"
    ]
   },
   "source": [
    "<table><tr><td>Run the master version of this notebook:</td><td><a href=\"https://mybinder.org/v2/gh/stellargraph/stellargraph/master?urlpath=lab/tree/demos/link-prediction/hinsage/movielens-recommender.ipynb\" alt=\"Open In Binder\" target=\"_parent\"><img src=\"https://mybinder.org/badge_logo.svg\"/></a></td><td><a href=\"https://colab.research.google.com/github/stellargraph/stellargraph/blob/master/demos/link-prediction/hinsage/movielens-recommender.ipynb\" alt=\"Open In Colab\" target=\"_parent\"><img src=\"https://colab.research.google.com/assets/colab-badge.svg\"/></a></td></tr></table>"
   ]
  }
 ],
 "metadata": {
  "kernelspec": {
   "display_name": "Python 3",
   "language": "python",
   "name": "python3"
  },
  "language_info": {
   "codemirror_mode": {
    "name": "ipython",
    "version": 3
   },
   "file_extension": ".py",
   "mimetype": "text/x-python",
   "name": "python",
   "nbconvert_exporter": "python",
   "pygments_lexer": "ipython3",
   "version": "3.6.9"
  }
 },
 "nbformat": 4,
 "nbformat_minor": 4
}
